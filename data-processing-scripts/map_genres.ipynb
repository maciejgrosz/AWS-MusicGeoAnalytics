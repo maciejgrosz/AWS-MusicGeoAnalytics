{
 "cells": [
  {
   "cell_type": "code",
   "execution_count": 9,
   "id": "692adbd5-5cb7-4d05-b3b1-a659435a4d5b",
   "metadata": {},
   "outputs": [],
   "source": [
    "import json\n",
    "import re "
   ]
  },
  {
   "cell_type": "code",
   "execution_count": 10,
   "id": "d90fea80-d07d-4c43-a06d-6b2d4fc9329e",
   "metadata": {},
   "outputs": [],
   "source": [
    "genre_types = [\n",
    "    \"pop\", \"rock\", \"hip-hop\", \"jazz\", \"blues\", \"country\", \"rnb\",\n",
    "    \"electronic\", \"classical\", \"folk\", \"reggae\", \"punk\", \"metal\", \"indie\", \"soul\",\n",
    "    \"funk\", \"gospel\", \"alternative\", \"rap\", \"edm\", \"ska\",\n",
    "    \"ambient\", \"dubstep\", \"techno\", \"house\", \"trap\", \"latin\", \"disco\", \n",
    "    \"grunge\", \"book\", \"podcast\", \"trance\", \"dance\", \"boogie\", \"beats\", \"afrobeat\", \"phonk\"\n",
    "]\n",
    "jazz_genres = [\n",
    "    \"dixie\",\n",
    "    \"swing\",\n",
    "    \"bebop\",\n",
    "    \"free\",\n",
    "    \"fusion\",\n",
    "    \"gypsy\",\n",
    "    \"ragtime\"\n",
    "    \n",
    "]"
   ]
  },
  {
   "cell_type": "code",
   "execution_count": 11,
   "id": "db0967e4-3075-451b-8f1b-91c0f47a6fb6",
   "metadata": {},
   "outputs": [],
   "source": [
    "def read_music_genres(file_path):\n",
    "    try:\n",
    "        with open(file_path, 'r') as file:\n",
    "            genres = [line.strip() for line in file.readlines()]\n",
    "        return genres\n",
    "    except FileNotFoundError:\n",
    "        print(f\"File not found: {file_path}\")\n",
    "        return []"
   ]
  },
  {
   "cell_type": "code",
   "execution_count": 12,
   "id": "e361c697-416e-411a-9051-01f92a77c469",
   "metadata": {},
   "outputs": [
    {
     "name": "stdout",
     "output_type": "stream",
     "text": [
      "File not found: unique_genres.txt\n",
      "No music genres found.\n"
     ]
    }
   ],
   "source": [
    "file_path = 'unique_genres.txt'\n",
    "music_genres = read_music_genres(file_path)\n",
    "\n",
    "if music_genres:\n",
    "    print(\"Music Genres:\")\n",
    "    for genre in music_genres:\n",
    "        print(genre)\n",
    "else:\n",
    "    print(\"No music genres found.\")"
   ]
  },
  {
   "cell_type": "code",
   "execution_count": 13,
   "id": "35a40903-0123-4b0f-9e1d-546e34dff060",
   "metadata": {},
   "outputs": [],
   "source": [
    "def clean_genre(genre):\n",
    "    genre = genre.replace('r&b', 'rnb')\n",
    "    for j_genre in jazz_genres: \n",
    "        genre = genre.replace(j_genre, 'jazz')\n",
    "    cleaned_genre = ''.join(char if char.isalpha() else ' ' for char in genre)\n",
    "    cleaned_genre = cleaned_genre.strip() \n",
    "    cleaned_genre = re.sub(r'\\s+', ' ', cleaned_genre)\n",
    "    return cleaned_genre"
   ]
  },
  {
   "cell_type": "code",
   "execution_count": 14,
   "id": "fea5e60b-fc98-47a9-a921-8f8c861ded58",
   "metadata": {},
   "outputs": [],
   "source": [
    "def map_genre(genre, genre_types=genre_types):\n",
    "    genre = clean_genre(genre)\n",
    "    genre = genre.split(' ')\n",
    "    for element in genre: \n",
    "        if element in genre_types:\n",
    "            return element\n",
    "        elif len(element) >= 3:\n",
    "            for genre_type in genre_types: \n",
    "                if element in genre_type:\n",
    "                    return genre_type\n",
    "    for element in genre:\n",
    "        is_in_how_many = 0\n",
    "        for genre_type in genre_types:\n",
    "            if genre_type in element:\n",
    "                is_in_how_many += 1 \n",
    "        for genre_type in genre_types:\n",
    "            if genre_type in element and is_in_how_many == 1:\n",
    "                return genre_type\n",
    "    return 'other'           \n",
    "            "
   ]
  },
  {
   "cell_type": "code",
   "execution_count": 15,
   "id": "e53e22f4-80f0-466e-a368-e7d889aab412",
   "metadata": {},
   "outputs": [],
   "source": [
    "with open('data_sorted_GB.json', 'r') as data_sorted:\n",
    "    data_sorted = json.load(data_sorted)"
   ]
  },
  {
   "cell_type": "code",
   "execution_count": 16,
   "id": "037e273e-6a25-4c4b-9bcc-bbf1ecd142bd",
   "metadata": {},
   "outputs": [],
   "source": [
    "def map_data(data):\n",
    "    data_mapped = {}\n",
    "    for city in data.keys():\n",
    "        data_mapped[city] = {}\n",
    "        for genre_name in data[city].keys():\n",
    "            genre_num = data[city][genre_name]\n",
    "            new_name = map_genre(genre_name)\n",
    "            if new_name in data_mapped[city].keys():\n",
    "                data_mapped[city][new_name] += genre_num\n",
    "            else:\n",
    "                data_mapped[city][new_name] = genre_num\n",
    "                \n",
    "    return data_mapped"
   ]
  },
  {
   "cell_type": "code",
   "execution_count": 17,
   "id": "b2c5b0ec-57cd-4036-b450-b0314e33807c",
   "metadata": {},
   "outputs": [],
   "source": [
    "data_sorted_mapped = map_data(data_sorted)"
   ]
  },
  {
   "cell_type": "code",
   "execution_count": 18,
   "id": "96027110-9fb1-46a8-ba56-2e6d3131da69",
   "metadata": {},
   "outputs": [],
   "source": [
    "with open(f\"data_sorted_mapped.json\", \"w\") as outfile: \n",
    "        json.dump(data_sorted_mapped, outfile, indent = 4)"
   ]
  }
 ],
 "metadata": {
  "kernelspec": {
   "display_name": "Python 3 (ipykernel)",
   "language": "python",
   "name": "python3"
  },
  "language_info": {
   "codemirror_mode": {
    "name": "ipython",
    "version": 3
   },
   "file_extension": ".py",
   "mimetype": "text/x-python",
   "name": "python",
   "nbconvert_exporter": "python",
   "pygments_lexer": "ipython3",
   "version": "3.11.7"
  }
 },
 "nbformat": 4,
 "nbformat_minor": 5
}
